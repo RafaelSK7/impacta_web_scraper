{
 "cells": [
  {
   "cell_type": "code",
   "execution_count": 79,
   "metadata": {},
   "outputs": [],
   "source": [
    "import pandas as pd\n",
    "import missingno as msno\n",
    "import plotly.express as px\n",
    "import re"
   ]
  },
  {
   "cell_type": "code",
   "execution_count": 80,
   "metadata": {},
   "outputs": [],
   "source": [
    "dados = pd.read_csv('C:/Users/rafae/Desenvolvimento/Faculdade/Web Mining/SeleniumAulas/realEstateInvestmentsTrustScraper/basesOriginais/reits.csv')"
   ]
  },
  {
   "cell_type": "code",
   "execution_count": 81,
   "metadata": {},
   "outputs": [
    {
     "data": {
      "text/html": [
       "<div>\n",
       "<style scoped>\n",
       "    .dataframe tbody tr th:only-of-type {\n",
       "        vertical-align: middle;\n",
       "    }\n",
       "\n",
       "    .dataframe tbody tr th {\n",
       "        vertical-align: top;\n",
       "    }\n",
       "\n",
       "    .dataframe thead th {\n",
       "        text-align: right;\n",
       "    }\n",
       "</style>\n",
       "<table border=\"1\" class=\"dataframe\">\n",
       "  <thead>\n",
       "    <tr style=\"text-align: right;\">\n",
       "      <th></th>\n",
       "      <th>Unnamed: 0</th>\n",
       "      <th>codigo</th>\n",
       "      <th>setor</th>\n",
       "      <th>precoAtual</th>\n",
       "      <th>liquidezDiaria</th>\n",
       "      <th>dividendo</th>\n",
       "      <th>dividendYield</th>\n",
       "      <th>dividendYieldAnual</th>\n",
       "      <th>variacaoPreco</th>\n",
       "      <th>pvp</th>\n",
       "      <th>vacanciaFisica</th>\n",
       "      <th>vacanciaFinanceira</th>\n",
       "    </tr>\n",
       "  </thead>\n",
       "  <tbody>\n",
       "    <tr>\n",
       "      <th>0</th>\n",
       "      <td>0</td>\n",
       "      <td>AAZQ11</td>\n",
       "      <td>NaN</td>\n",
       "      <td>R$ 9,64</td>\n",
       "      <td>55865.0</td>\n",
       "      <td>R$ 0,13</td>\n",
       "      <td>1,35%</td>\n",
       "      <td>2,90%</td>\n",
       "      <td>-0,72%</td>\n",
       "      <td>1,00</td>\n",
       "      <td>NaN</td>\n",
       "      <td>NaN</td>\n",
       "    </tr>\n",
       "    <tr>\n",
       "      <th>1</th>\n",
       "      <td>1</td>\n",
       "      <td>ABCP11</td>\n",
       "      <td>Shoppings</td>\n",
       "      <td>R$ 64,85</td>\n",
       "      <td>798.0</td>\n",
       "      <td>R$ 0,50</td>\n",
       "      <td>0,77%</td>\n",
       "      <td>1,53%</td>\n",
       "      <td>-2,90%</td>\n",
       "      <td>0,71</td>\n",
       "      <td>7,50%</td>\n",
       "      <td>NaN</td>\n",
       "    </tr>\n",
       "    <tr>\n",
       "      <th>2</th>\n",
       "      <td>2</td>\n",
       "      <td>AFHI11</td>\n",
       "      <td>Títulos e Val. Mob.</td>\n",
       "      <td>R$ 92,21</td>\n",
       "      <td>7009.0</td>\n",
       "      <td>R$ 1,06</td>\n",
       "      <td>1,12%</td>\n",
       "      <td>2,24%</td>\n",
       "      <td>0,57%</td>\n",
       "      <td>0,97</td>\n",
       "      <td>NaN</td>\n",
       "      <td>NaN</td>\n",
       "    </tr>\n",
       "    <tr>\n",
       "      <th>3</th>\n",
       "      <td>3</td>\n",
       "      <td>AGRX11</td>\n",
       "      <td>NaN</td>\n",
       "      <td>R$ 10,69</td>\n",
       "      <td>10183.0</td>\n",
       "      <td>R$ 0,18</td>\n",
       "      <td>1,68%</td>\n",
       "      <td>3,24%</td>\n",
       "      <td>4,29%</td>\n",
       "      <td>NaN</td>\n",
       "      <td>NaN</td>\n",
       "      <td>NaN</td>\n",
       "    </tr>\n",
       "    <tr>\n",
       "      <th>4</th>\n",
       "      <td>4</td>\n",
       "      <td>AIEC11</td>\n",
       "      <td>Lajes Corporativas</td>\n",
       "      <td>R$ 60,64</td>\n",
       "      <td>3907.0</td>\n",
       "      <td>R$ 0,75</td>\n",
       "      <td>1,22%</td>\n",
       "      <td>1,49%</td>\n",
       "      <td>-7,46%</td>\n",
       "      <td>0,64</td>\n",
       "      <td>0,00%</td>\n",
       "      <td>NaN</td>\n",
       "    </tr>\n",
       "  </tbody>\n",
       "</table>\n",
       "</div>"
      ],
      "text/plain": [
       "   Unnamed: 0  codigo                setor precoAtual  liquidezDiaria  \\\n",
       "0           0  AAZQ11                  NaN    R$ 9,64         55865.0   \n",
       "1           1  ABCP11            Shoppings   R$ 64,85           798.0   \n",
       "2           2  AFHI11  Títulos e Val. Mob.   R$ 92,21          7009.0   \n",
       "3           3  AGRX11                  NaN   R$ 10,69         10183.0   \n",
       "4           4  AIEC11   Lajes Corporativas   R$ 60,64          3907.0   \n",
       "\n",
       "  dividendo dividendYield dividendYieldAnual variacaoPreco   pvp  \\\n",
       "0   R$ 0,13         1,35%              2,90%        -0,72%  1,00   \n",
       "1   R$ 0,50         0,77%              1,53%        -2,90%  0,71   \n",
       "2   R$ 1,06         1,12%              2,24%         0,57%  0,97   \n",
       "3   R$ 0,18         1,68%              3,24%         4,29%   NaN   \n",
       "4   R$ 0,75         1,22%              1,49%        -7,46%  0,64   \n",
       "\n",
       "  vacanciaFisica vacanciaFinanceira  \n",
       "0            NaN                NaN  \n",
       "1          7,50%                NaN  \n",
       "2            NaN                NaN  \n",
       "3            NaN                NaN  \n",
       "4          0,00%                NaN  "
      ]
     },
     "execution_count": 81,
     "metadata": {},
     "output_type": "execute_result"
    }
   ],
   "source": [
    "dados.head()"
   ]
  },
  {
   "cell_type": "code",
   "execution_count": 82,
   "metadata": {},
   "outputs": [
    {
     "data": {
      "text/plain": [
       "Index(['Unnamed: 0', 'codigo', 'setor', 'precoAtual', 'liquidezDiaria',\n",
       "       'dividendo', 'dividendYield', 'dividendYieldAnual', 'variacaoPreco',\n",
       "       'pvp', 'vacanciaFisica', 'vacanciaFinanceira'],\n",
       "      dtype='object')"
      ]
     },
     "execution_count": 82,
     "metadata": {},
     "output_type": "execute_result"
    }
   ],
   "source": [
    "dados.columns"
   ]
  },
  {
   "attachments": {},
   "cell_type": "markdown",
   "metadata": {},
   "source": [
    "# Tratamento de index e duplicados."
   ]
  },
  {
   "cell_type": "code",
   "execution_count": 83,
   "metadata": {},
   "outputs": [
    {
     "data": {
      "text/plain": [
       "(328, 12)"
      ]
     },
     "execution_count": 83,
     "metadata": {},
     "output_type": "execute_result"
    }
   ],
   "source": [
    "dados.shape"
   ]
  },
  {
   "cell_type": "code",
   "execution_count": 84,
   "metadata": {},
   "outputs": [
    {
     "data": {
      "text/plain": [
       "(328, 12)"
      ]
     },
     "execution_count": 84,
     "metadata": {},
     "output_type": "execute_result"
    }
   ],
   "source": [
    "dados = dados.reset_index(drop=True).drop_duplicates()\n",
    "dados.shape"
   ]
  },
  {
   "cell_type": "code",
   "execution_count": 85,
   "metadata": {},
   "outputs": [],
   "source": [
    "dados.drop(['Unnamed: 0'],axis=1, inplace=True)"
   ]
  },
  {
   "attachments": {},
   "cell_type": "markdown",
   "metadata": {},
   "source": [
    "# Não houve a necessidade de retirar/modificar colunas, pois já foi pego as colunas certas do site na hora do scrapping."
   ]
  },
  {
   "attachments": {},
   "cell_type": "markdown",
   "metadata": {},
   "source": [
    "#Tratamento de dados para retirar os caracteres especiais"
   ]
  },
  {
   "cell_type": "code",
   "execution_count": null,
   "metadata": {},
   "outputs": [],
   "source": []
  },
  {
   "cell_type": "code",
   "execution_count": 86,
   "metadata": {},
   "outputs": [
    {
     "ename": "AttributeError",
     "evalue": "'NoneType' object has no attribute 'group'",
     "output_type": "error",
     "traceback": [
      "\u001b[1;31m---------------------------------------------------------------------------\u001b[0m",
      "\u001b[1;31mAttributeError\u001b[0m                            Traceback (most recent call last)",
      "Cell \u001b[1;32mIn[86], line 3\u001b[0m\n\u001b[0;32m      1\u001b[0m alteredColumns \u001b[39m=\u001b[39m [\u001b[39m'\u001b[39m\u001b[39mprecoAtual\u001b[39m\u001b[39m'\u001b[39m]\n\u001b[0;32m      2\u001b[0m \u001b[39mfor\u001b[39;00m column \u001b[39min\u001b[39;00m alteredColumns:\n\u001b[1;32m----> 3\u001b[0m     dados[column] \u001b[39m=\u001b[39m dados[column]\u001b[39m.\u001b[39;49mapply(\u001b[39mlambda\u001b[39;49;00m item: item \u001b[39mif\u001b[39;49;00m pd\u001b[39m.\u001b[39;49misna(item) \u001b[39melse\u001b[39;49;00m \u001b[39mfloat\u001b[39;49m(re\u001b[39m.\u001b[39;49mmatch(\u001b[39mr\u001b[39;49m\u001b[39m'\u001b[39;49m\u001b[39m^R$\u001b[39;49m\u001b[39m\\\u001b[39;49m\u001b[39ms(\u001b[39;49m\u001b[39m\\\u001b[39;49m\u001b[39md\u001b[39;49m\u001b[39m{\u001b[39;49m\u001b[39m1,3}(.\u001b[39;49m\u001b[39m\\\u001b[39;49m\u001b[39md\u001b[39;49m\u001b[39m{3}\u001b[39;49;00m\u001b[39m)|\u001b[39;49m\u001b[39m\\\u001b[39;49m\u001b[39md+)(,\u001b[39;49m\u001b[39m\\\u001b[39;49m\u001b[39md\u001b[39;49m\u001b[39m{2}\u001b[39;49;00m\u001b[39m)?\u001b[39;49m\u001b[39m\\\u001b[39;49m\u001b[39ms*$\u001b[39;49m\u001b[39m'\u001b[39;49m, item)\u001b[39m.\u001b[39;49mgroup(\u001b[39m1\u001b[39;49m)\u001b[39m.\u001b[39;49mreplace(\u001b[39m'\u001b[39;49m\u001b[39m.\u001b[39;49m\u001b[39m'\u001b[39;49m, \u001b[39m'\u001b[39;49m\u001b[39m'\u001b[39;49m)\u001b[39m.\u001b[39;49mreplace(\u001b[39m'\u001b[39;49m\u001b[39m,\u001b[39;49m\u001b[39m'\u001b[39;49m, \u001b[39m'\u001b[39;49m\u001b[39m.\u001b[39;49m\u001b[39m'\u001b[39;49m)))\n",
      "File \u001b[1;32mc:\\Users\\rafae\\AppData\\Local\\Programs\\Python\\Python310\\lib\\site-packages\\pandas\\core\\series.py:4771\u001b[0m, in \u001b[0;36mSeries.apply\u001b[1;34m(self, func, convert_dtype, args, **kwargs)\u001b[0m\n\u001b[0;32m   4661\u001b[0m \u001b[39mdef\u001b[39;00m \u001b[39mapply\u001b[39m(\n\u001b[0;32m   4662\u001b[0m     \u001b[39mself\u001b[39m,\n\u001b[0;32m   4663\u001b[0m     func: AggFuncType,\n\u001b[1;32m   (...)\u001b[0m\n\u001b[0;32m   4666\u001b[0m     \u001b[39m*\u001b[39m\u001b[39m*\u001b[39mkwargs,\n\u001b[0;32m   4667\u001b[0m ) \u001b[39m-\u001b[39m\u001b[39m>\u001b[39m DataFrame \u001b[39m|\u001b[39m Series:\n\u001b[0;32m   4668\u001b[0m \u001b[39m    \u001b[39m\u001b[39m\"\"\"\u001b[39;00m\n\u001b[0;32m   4669\u001b[0m \u001b[39m    Invoke function on values of Series.\u001b[39;00m\n\u001b[0;32m   4670\u001b[0m \n\u001b[1;32m   (...)\u001b[0m\n\u001b[0;32m   4769\u001b[0m \u001b[39m    dtype: float64\u001b[39;00m\n\u001b[0;32m   4770\u001b[0m \u001b[39m    \"\"\"\u001b[39;00m\n\u001b[1;32m-> 4771\u001b[0m     \u001b[39mreturn\u001b[39;00m SeriesApply(\u001b[39mself\u001b[39;49m, func, convert_dtype, args, kwargs)\u001b[39m.\u001b[39;49mapply()\n",
      "File \u001b[1;32mc:\\Users\\rafae\\AppData\\Local\\Programs\\Python\\Python310\\lib\\site-packages\\pandas\\core\\apply.py:1123\u001b[0m, in \u001b[0;36mSeriesApply.apply\u001b[1;34m(self)\u001b[0m\n\u001b[0;32m   1120\u001b[0m     \u001b[39mreturn\u001b[39;00m \u001b[39mself\u001b[39m\u001b[39m.\u001b[39mapply_str()\n\u001b[0;32m   1122\u001b[0m \u001b[39m# self.f is Callable\u001b[39;00m\n\u001b[1;32m-> 1123\u001b[0m \u001b[39mreturn\u001b[39;00m \u001b[39mself\u001b[39;49m\u001b[39m.\u001b[39;49mapply_standard()\n",
      "File \u001b[1;32mc:\\Users\\rafae\\AppData\\Local\\Programs\\Python\\Python310\\lib\\site-packages\\pandas\\core\\apply.py:1174\u001b[0m, in \u001b[0;36mSeriesApply.apply_standard\u001b[1;34m(self)\u001b[0m\n\u001b[0;32m   1172\u001b[0m     \u001b[39melse\u001b[39;00m:\n\u001b[0;32m   1173\u001b[0m         values \u001b[39m=\u001b[39m obj\u001b[39m.\u001b[39mastype(\u001b[39mobject\u001b[39m)\u001b[39m.\u001b[39m_values\n\u001b[1;32m-> 1174\u001b[0m         mapped \u001b[39m=\u001b[39m lib\u001b[39m.\u001b[39;49mmap_infer(\n\u001b[0;32m   1175\u001b[0m             values,\n\u001b[0;32m   1176\u001b[0m             f,\n\u001b[0;32m   1177\u001b[0m             convert\u001b[39m=\u001b[39;49m\u001b[39mself\u001b[39;49m\u001b[39m.\u001b[39;49mconvert_dtype,\n\u001b[0;32m   1178\u001b[0m         )\n\u001b[0;32m   1180\u001b[0m \u001b[39mif\u001b[39;00m \u001b[39mlen\u001b[39m(mapped) \u001b[39mand\u001b[39;00m \u001b[39misinstance\u001b[39m(mapped[\u001b[39m0\u001b[39m], ABCSeries):\n\u001b[0;32m   1181\u001b[0m     \u001b[39m# GH#43986 Need to do list(mapped) in order to get treated as nested\u001b[39;00m\n\u001b[0;32m   1182\u001b[0m     \u001b[39m#  See also GH#25959 regarding EA support\u001b[39;00m\n\u001b[0;32m   1183\u001b[0m     \u001b[39mreturn\u001b[39;00m obj\u001b[39m.\u001b[39m_constructor_expanddim(\u001b[39mlist\u001b[39m(mapped), index\u001b[39m=\u001b[39mobj\u001b[39m.\u001b[39mindex)\n",
      "File \u001b[1;32mc:\\Users\\rafae\\AppData\\Local\\Programs\\Python\\Python310\\lib\\site-packages\\pandas\\_libs\\lib.pyx:2924\u001b[0m, in \u001b[0;36mpandas._libs.lib.map_infer\u001b[1;34m()\u001b[0m\n",
      "Cell \u001b[1;32mIn[86], line 3\u001b[0m, in \u001b[0;36m<lambda>\u001b[1;34m(item)\u001b[0m\n\u001b[0;32m      1\u001b[0m alteredColumns \u001b[39m=\u001b[39m [\u001b[39m'\u001b[39m\u001b[39mprecoAtual\u001b[39m\u001b[39m'\u001b[39m]\n\u001b[0;32m      2\u001b[0m \u001b[39mfor\u001b[39;00m column \u001b[39min\u001b[39;00m alteredColumns:\n\u001b[1;32m----> 3\u001b[0m     dados[column] \u001b[39m=\u001b[39m dados[column]\u001b[39m.\u001b[39mapply(\u001b[39mlambda\u001b[39;00m item: item \u001b[39mif\u001b[39;00m pd\u001b[39m.\u001b[39misna(item) \u001b[39melse\u001b[39;00m \u001b[39mfloat\u001b[39m(re\u001b[39m.\u001b[39;49mmatch(\u001b[39mr\u001b[39;49m\u001b[39m'\u001b[39;49m\u001b[39m^R$\u001b[39;49m\u001b[39m\\\u001b[39;49m\u001b[39ms(\u001b[39;49m\u001b[39m\\\u001b[39;49m\u001b[39md\u001b[39;49m\u001b[39m{\u001b[39;49m\u001b[39m1,3}(.\u001b[39;49m\u001b[39m\\\u001b[39;49m\u001b[39md\u001b[39;49m\u001b[39m{3}\u001b[39;49;00m\u001b[39m)|\u001b[39;49m\u001b[39m\\\u001b[39;49m\u001b[39md+)(,\u001b[39;49m\u001b[39m\\\u001b[39;49m\u001b[39md\u001b[39;49m\u001b[39m{2}\u001b[39;49;00m\u001b[39m)?\u001b[39;49m\u001b[39m\\\u001b[39;49m\u001b[39ms*$\u001b[39;49m\u001b[39m'\u001b[39;49m, item)\u001b[39m.\u001b[39;49mgroup(\u001b[39m1\u001b[39m)\u001b[39m.\u001b[39mreplace(\u001b[39m'\u001b[39m\u001b[39m.\u001b[39m\u001b[39m'\u001b[39m, \u001b[39m'\u001b[39m\u001b[39m'\u001b[39m)\u001b[39m.\u001b[39mreplace(\u001b[39m'\u001b[39m\u001b[39m,\u001b[39m\u001b[39m'\u001b[39m, \u001b[39m'\u001b[39m\u001b[39m.\u001b[39m\u001b[39m'\u001b[39m)))\n",
      "\u001b[1;31mAttributeError\u001b[0m: 'NoneType' object has no attribute 'group'"
     ]
    }
   ],
   "source": [
    "alteredColumns = ['precoAtual']\n",
    "for column in alteredColumns:\n",
    "    dados[column] = dados[column].apply(lambda item: item if pd.isna(item) else float(re.match(r'^R$\\s(\\d{1,3}(.\\d{3})|\\d+)(,\\d{2})?\\s*$', item).group(1).replace('.', '').replace(',', '.')))\n",
    "    "
   ]
  },
  {
   "cell_type": "code",
   "execution_count": null,
   "metadata": {},
   "outputs": [
    {
     "data": {
      "text/html": [
       "<div>\n",
       "<style scoped>\n",
       "    .dataframe tbody tr th:only-of-type {\n",
       "        vertical-align: middle;\n",
       "    }\n",
       "\n",
       "    .dataframe tbody tr th {\n",
       "        vertical-align: top;\n",
       "    }\n",
       "\n",
       "    .dataframe thead th {\n",
       "        text-align: right;\n",
       "    }\n",
       "</style>\n",
       "<table border=\"1\" class=\"dataframe\">\n",
       "  <thead>\n",
       "    <tr style=\"text-align: right;\">\n",
       "      <th></th>\n",
       "      <th>codigo</th>\n",
       "      <th>setor</th>\n",
       "      <th>precoAtual</th>\n",
       "      <th>liquidezDiaria</th>\n",
       "      <th>dividendo</th>\n",
       "      <th>dividendYield</th>\n",
       "      <th>dividendYieldAnual</th>\n",
       "      <th>variacaoPreco</th>\n",
       "      <th>pvp</th>\n",
       "      <th>vacanciaFisica</th>\n",
       "      <th>vacanciaFinanceira</th>\n",
       "    </tr>\n",
       "  </thead>\n",
       "  <tbody>\n",
       "    <tr>\n",
       "      <th>0</th>\n",
       "      <td>AAZQ11</td>\n",
       "      <td>NaN</td>\n",
       "      <td>964.0</td>\n",
       "      <td>55865.0</td>\n",
       "      <td>R$ 0,13</td>\n",
       "      <td>1,35%</td>\n",
       "      <td>2,90%</td>\n",
       "      <td>-0,72%</td>\n",
       "      <td>1,00</td>\n",
       "      <td>NaN</td>\n",
       "      <td>NaN</td>\n",
       "    </tr>\n",
       "    <tr>\n",
       "      <th>1</th>\n",
       "      <td>ABCP11</td>\n",
       "      <td>Shoppings</td>\n",
       "      <td>6485.0</td>\n",
       "      <td>798.0</td>\n",
       "      <td>R$ 0,50</td>\n",
       "      <td>0,77%</td>\n",
       "      <td>1,53%</td>\n",
       "      <td>-2,90%</td>\n",
       "      <td>0,71</td>\n",
       "      <td>7,50%</td>\n",
       "      <td>NaN</td>\n",
       "    </tr>\n",
       "    <tr>\n",
       "      <th>2</th>\n",
       "      <td>AFHI11</td>\n",
       "      <td>Títulos e Val. Mob.</td>\n",
       "      <td>9221.0</td>\n",
       "      <td>7009.0</td>\n",
       "      <td>R$ 1,06</td>\n",
       "      <td>1,12%</td>\n",
       "      <td>2,24%</td>\n",
       "      <td>0,57%</td>\n",
       "      <td>0,97</td>\n",
       "      <td>NaN</td>\n",
       "      <td>NaN</td>\n",
       "    </tr>\n",
       "    <tr>\n",
       "      <th>3</th>\n",
       "      <td>AGRX11</td>\n",
       "      <td>NaN</td>\n",
       "      <td>1069.0</td>\n",
       "      <td>10183.0</td>\n",
       "      <td>R$ 0,18</td>\n",
       "      <td>1,68%</td>\n",
       "      <td>3,24%</td>\n",
       "      <td>4,29%</td>\n",
       "      <td>NaN</td>\n",
       "      <td>NaN</td>\n",
       "      <td>NaN</td>\n",
       "    </tr>\n",
       "    <tr>\n",
       "      <th>4</th>\n",
       "      <td>AIEC11</td>\n",
       "      <td>Lajes Corporativas</td>\n",
       "      <td>6064.0</td>\n",
       "      <td>3907.0</td>\n",
       "      <td>R$ 0,75</td>\n",
       "      <td>1,22%</td>\n",
       "      <td>1,49%</td>\n",
       "      <td>-7,46%</td>\n",
       "      <td>0,64</td>\n",
       "      <td>0,00%</td>\n",
       "      <td>NaN</td>\n",
       "    </tr>\n",
       "  </tbody>\n",
       "</table>\n",
       "</div>"
      ],
      "text/plain": [
       "   codigo                setor  precoAtual  liquidezDiaria dividendo  \\\n",
       "0  AAZQ11                  NaN       964.0         55865.0   R$ 0,13   \n",
       "1  ABCP11            Shoppings      6485.0           798.0   R$ 0,50   \n",
       "2  AFHI11  Títulos e Val. Mob.      9221.0          7009.0   R$ 1,06   \n",
       "3  AGRX11                  NaN      1069.0         10183.0   R$ 0,18   \n",
       "4  AIEC11   Lajes Corporativas      6064.0          3907.0   R$ 0,75   \n",
       "\n",
       "  dividendYield dividendYieldAnual variacaoPreco   pvp vacanciaFisica  \\\n",
       "0         1,35%              2,90%        -0,72%  1,00            NaN   \n",
       "1         0,77%              1,53%        -2,90%  0,71          7,50%   \n",
       "2         1,12%              2,24%         0,57%  0,97            NaN   \n",
       "3         1,68%              3,24%         4,29%   NaN            NaN   \n",
       "4         1,22%              1,49%        -7,46%  0,64          0,00%   \n",
       "\n",
       "  vacanciaFinanceira  \n",
       "0                NaN  \n",
       "1                NaN  \n",
       "2                NaN  \n",
       "3                NaN  \n",
       "4                NaN  "
      ]
     },
     "execution_count": 68,
     "metadata": {},
     "output_type": "execute_result"
    }
   ],
   "source": [
    "dados.head()"
   ]
  },
  {
   "attachments": {},
   "cell_type": "markdown",
   "metadata": {},
   "source": [
    "# Tratamento de dados missing"
   ]
  },
  {
   "cell_type": "code",
   "execution_count": null,
   "metadata": {},
   "outputs": [
    {
     "name": "stdout",
     "output_type": "stream",
     "text": [
      "<class 'pandas.core.frame.DataFrame'>\n",
      "Int64Index: 328 entries, 0 to 327\n",
      "Data columns (total 11 columns):\n",
      " #   Column              Non-Null Count  Dtype  \n",
      "---  ------              --------------  -----  \n",
      " 0   codigo              328 non-null    object \n",
      " 1   setor               309 non-null    object \n",
      " 2   precoAtual          319 non-null    float64\n",
      " 3   liquidezDiaria      319 non-null    float64\n",
      " 4   dividendo           328 non-null    object \n",
      " 5   dividendYield       323 non-null    object \n",
      " 6   dividendYieldAnual  291 non-null    object \n",
      " 7   variacaoPreco       323 non-null    object \n",
      " 8   pvp                 300 non-null    object \n",
      " 9   vacanciaFisica      126 non-null    object \n",
      " 10  vacanciaFinanceira  30 non-null     object \n",
      "dtypes: float64(2), object(9)\n",
      "memory usage: 30.8+ KB\n"
     ]
    }
   ],
   "source": [
    "dados.info()"
   ]
  },
  {
   "cell_type": "code",
   "execution_count": null,
   "metadata": {},
   "outputs": [
    {
     "name": "stdout",
     "output_type": "stream",
     "text": [
      "Valoress NULL Da Base De Dados:\n",
      "\n",
      "codigo                  0\n",
      "setor                  19\n",
      "precoAtual              9\n",
      "liquidezDiaria          9\n",
      "dividendo               0\n",
      "dividendYield           5\n",
      "dividendYieldAnual     37\n",
      "variacaoPreco           5\n",
      "pvp                    28\n",
      "vacanciaFisica        202\n",
      "vacanciaFinanceira    298\n",
      "dtype: int64\n"
     ]
    }
   ],
   "source": [
    "print('Valoress NULL Da Base De Dados:\\n')\n",
    "print(dados.isnull().sum())"
   ]
  },
  {
   "cell_type": "code",
   "execution_count": null,
   "metadata": {},
   "outputs": [
    {
     "name": "stdout",
     "output_type": "stream",
     "text": [
      "\n",
      "Valoress NAN Da Base De Dados:\n",
      "\n",
      "codigo                  0\n",
      "setor                  19\n",
      "precoAtual              9\n",
      "liquidezDiaria          9\n",
      "dividendo               0\n",
      "dividendYield           5\n",
      "dividendYieldAnual     37\n",
      "variacaoPreco           5\n",
      "pvp                    28\n",
      "vacanciaFisica        202\n",
      "vacanciaFinanceira    298\n",
      "dtype: int64\n"
     ]
    }
   ],
   "source": [
    "print('\\nValoress NAN Da Base De Dados:\\n')\n",
    "print(dados.isna().sum())"
   ]
  },
  {
   "cell_type": "code",
   "execution_count": null,
   "metadata": {},
   "outputs": [
    {
     "data": {
      "text/plain": [
       "<Axes: >"
      ]
     },
     "execution_count": 72,
     "metadata": {},
     "output_type": "execute_result"
    },
    {
     "data": {
      "image/png": "[encoded data removed]",
      "text/plain": [
       "<Figure size 2500x1000 with 2 Axes>"
      ]
     },
     "metadata": {},
     "output_type": "display_data"
    }
   ],
   "source": [
    "msno.matrix(dados)"
   ]
  },
  {
   "cell_type": "code",
   "execution_count": null,
   "metadata": {},
   "outputs": [
    {
     "data": {
      "text/plain": [
       "<Axes: >"
      ]
     },
     "execution_count": 73,
     "metadata": {},
     "output_type": "execute_result"
    },
    {
     "data": {
      "image/png": "[encoded data removed]",
      "text/plain": [
       "<Figure size 2500x1000 with 3 Axes>"
      ]
     },
     "metadata": {},
     "output_type": "display_data"
    }
   ],
   "source": [
    "msno.bar(dados)"
   ]
  },
  {
   "cell_type": "code",
   "execution_count": null,
   "metadata": {},
   "outputs": [
    {
     "data": {
      "application/vnd.plotly.v1+json": {
       "config": {
        "plotlyServerURL": "https://plot.ly"
       },
       "data": [
        {
         "alignmentgroup": "True",
         "hovertemplate": "variable=%{x}<br>value=%{y}<extra></extra>",
         "legendgroup": "",
         "marker": {
          "color": "#636efa"
         },
         "name": "",
         "notched": false,
         "offsetgroup": "",
         "orientation": "v",
         "showlegend": false,
         "type": "box",
         "x": [
          "dividendo",
          "dividendo",
          "dividendo",
          "dividendo",
          "dividendo",
          "dividendo",
          "dividendo",
          "dividendo",
          "dividendo",
          "dividendo",
          "dividendo",
          "dividendo",
          "dividendo",
          "dividendo",
          "dividendo",
          "dividendo",
          "dividendo",
          "dividendo",
          "dividendo",
          "dividendo",
          "dividendo",
          "dividendo",
          "dividendo",
          "dividendo",
          "dividendo",
          "dividendo",
          "dividendo",
          "dividendo",
          "dividendo",
          "dividendo",
          "dividendo",
          "dividendo",
          "dividendo",
          "dividendo",
          "dividendo",
          "dividendo",
          "dividendo",
          "dividendo",
          "dividendo",
          "dividendo",
          "dividendo",
          "dividendo",
          "dividendo",
          "dividendo",
          "dividendo",
          "dividendo",
          "dividendo",
          "dividendo",
          "dividendo",
          "dividendo",
          "dividendo",
          "dividendo",
          "dividendo",
          "dividendo",
          "dividendo",
          "dividendo",
          "dividendo",
          "dividendo",
          "dividendo",
          "dividendo",
          "dividendo",
          "dividendo",
          "dividendo",
          "dividendo",
          "dividendo",
          "dividendo",
          "dividendo",
          "dividendo",
          "dividendo",
          "dividendo",
          "dividendo",
          "dividendo",
          "dividendo",
          "dividendo",
          "dividendo",
          "dividendo",
          "dividendo",
          "dividendo",
          "dividendo",
          "dividendo",
          "dividendo",
          "dividendo",
          "dividendo",
          "dividendo",
          "dividendo",
          "dividendo",
          "dividendo",
          "dividendo",
          "dividendo",
          "dividendo",
          "dividendo",
          "dividendo",
          "dividendo",
          "dividendo",
          "dividendo",
          "dividendo",
          "dividendo",
          "dividendo",
          "dividendo",
          "dividendo",
          "dividendo",
          "dividendo",
          "dividendo",
          "dividendo",
          "dividendo",
          "dividendo",
          "dividendo",
          "dividendo",
          "dividendo",
          "dividendo",
          "dividendo",
          "dividendo",
          "dividendo",
          "dividendo",
          "dividendo",
          "dividendo",
          "dividendo",
          "dividendo",
          "dividendo",
          "dividendo",
          "dividendo",
          "dividendo",
          "dividendo",
          "dividendo",
          "dividendo",
          "dividendo",
          "dividendo",
          "dividendo",
          "dividendo",
          "dividendo",
          "dividendo",
          "dividendo",
          "dividendo",
          "dividendo",
          "dividendo",
          "dividendo",
          "dividendo",
          "dividendo",
          "dividendo",
          "dividendo",
          "dividendo",
          "dividendo",
          "dividendo",
          "dividendo",
          "dividendo",
          "dividendo",
          "dividendo",
          "dividendo",
          "dividendo",
          "dividendo",
          "dividendo",
          "dividendo",
          "dividendo",
          "dividendo",
          "dividendo",
          "dividendo",
          "dividendo",
          "dividendo",
          "dividendo",
          "dividendo",
          "dividendo",
          "dividendo",
          "dividendo",
          "dividendo",
          "dividendo",
          "dividendo",
          "dividendo",
          "dividendo",
          "dividendo",
          "dividendo",
          "dividendo",
          "dividendo",
          "dividendo",
          "dividendo",
          "dividendo",
          "dividendo",
          "dividendo",
          "dividendo",
          "dividendo",
          "dividendo",
          "dividendo",
          "dividendo",
          "dividendo",
          "dividendo",
          "dividendo",
          "dividendo",
          "dividendo",
          "dividendo",
          "dividendo",
          "dividendo",
          "dividendo",
          "dividendo",
          "dividendo",
          "dividendo",
          "dividendo",
          "dividendo",
          "dividendo",
          "dividendo",
          "dividendo",
          "dividendo",
          "dividendo",
          "dividendo",
          "dividendo",
          "dividendo",
          "dividendo",
          "dividendo",
          "dividendo",
          "dividendo",
          "dividendo",
          "dividendo",
          "dividendo",
          "dividendo",
          "dividendo",
          "dividendo",
          "dividendo",
          "dividendo",
          "dividendo",
          "dividendo",
          "dividendo",
          "dividendo",
          "dividendo",
          "dividendo",
          "dividendo",
          "dividendo",
          "dividendo",
          "dividendo",
          "dividendo",
          "dividendo",
          "dividendo",
          "dividendo",
          "dividendo",
          "dividendo",
          "dividendo",
          "dividendo",
          "dividendo",
          "dividendo",
          "dividendo",
          "dividendo",
          "dividendo",
          "dividendo",
          "dividendo",
          "dividendo",
          "dividendo",
          "dividendo",
          "dividendo",
          "dividendo",
          "dividendo",
          "dividendo",
          "dividendo",
          "dividendo",
          "dividendo",
          "dividendo",
          "dividendo",
          "dividendo",
          "dividendo",
          "dividendo",
          "dividendo",
          "dividendo",
          "dividendo",
          "dividendo",
          "dividendo",
          "dividendo",
          "dividendo",
          "dividendo",
          "dividendo",
          "dividendo",
          "dividendo",
          "dividendo",
          "dividendo",
          "dividendo",
          "dividendo",
          "dividendo",
          "dividendo",
          "dividendo",
          "dividendo",
          "dividendo",
          "dividendo",
          "dividendo",
          "dividendo",
          "dividendo",
          "dividendo",
          "dividendo",
          "dividendo",
          "dividendo",
          "dividendo",
          "dividendo",
          "dividendo",
          "dividendo",
          "dividendo",
          "dividendo",
          "dividendo",
          "dividendo",
          "dividendo",
          "dividendo",
          "dividendo",
          "dividendo",
          "dividendo",
          "dividendo",
          "dividendo",
          "dividendo",
          "dividendo",
          "dividendo",
          "dividendo",
          "dividendo",
          "dividendo",
          "dividendo",
          "dividendo",
          "dividendo",
          "dividendo",
          "dividendo",
          "dividendo",
          "dividendo",
          "dividendo",
          "dividendo",
          "dividendo",
          "dividendo",
          "dividendo",
          "dividendo",
          "dividendo",
          "dividendo",
          "dividendo",
          "dividendo",
          "dividendo",
          "dividendo",
          "dividendo",
          "dividendo",
          "dividendo",
          "dividendo"
         ],
         "x0": " ",
         "xaxis": "x",
         "y": [
          "R$ 0,13",
          "R$ 0,50",
          "R$ 1,06",
          "R$ 0,18",
          "R$ 0,75",
          "R$ 0,00",
          "R$ 0,85",
          "R$ 0,82",
          "R$ 0,10",
          "R$ 0,39",
          "R$ 0,11",
          "R$ 0,05",
          "R$ 0,90",
          "R$ 27,08",
          "R$ 0,73",
          "R$ 0,87",
          "R$ 0,15",
          "R$ 0,90",
          "R$ 0,99",
          "R$ 0,56",
          "R$ 0,78",
          "R$ 0,80",
          "R$ 1,00",
          "R$ 12,63",
          "R$ 0,72",
          "R$ 1,30",
          "R$ 0,08",
          "R$ 0,58",
          "R$ 0,56",
          "R$ 0,87",
          "R$ 0,78",
          "R$ 50,00",
          "R$ 0,07",
          "R$ 0,69",
          "R$ 1,35",
          "R$ 0,11",
          "R$ 0,62",
          "R$ 0,27",
          "R$ 0,62",
          "R$ 0,46",
          "R$ 4,13",
          "R$ 0,41",
          "R$ 107,00",
          "R$ 1,09",
          "R$ 0,83",
          "R$ 0,90",
          "R$ 0,74",
          "R$ 0,95",
          "R$ 0,87",
          "R$ 0,72",
          "R$ 0,47",
          "R$ 0,00",
          "R$ 1,42",
          "R$ 0,00",
          "R$ 0,12",
          "R$ 0,85",
          "R$ 0,50",
          "R$ 0,64",
          "R$ 0,00",
          "R$ 0,11",
          "R$ 0,77",
          "R$ 0,34",
          "R$ 0,90",
          "R$ 1,35",
          "R$ 0,76",
          "R$ 0,61",
          "R$ 0,09",
          "R$ 1,00",
          "R$ 0,75",
          "R$ 0,41",
          "R$ 0,83",
          "R$ 0,51",
          "R$ 0,56",
          "R$ 1,70",
          "R$ 0,10",
          "R$ 0,11",
          "R$ 0,90",
          "R$ 0,45",
          "R$ 0,70",
          "R$ 1,73",
          "R$ 0,13",
          "R$ 1,20",
          "R$ 0,11",
          "R$ 1.205,12",
          "R$ 0,66",
          "R$ 1,87",
          "R$ 0,75",
          "R$ 1,61",
          "R$ 9,16",
          "R$ 0,74",
          "R$ 0,81",
          "R$ 0,95",
          "R$ 0,13",
          "R$ 0,39",
          "R$ 3,25",
          "R$ 1,35",
          "R$ 0,38",
          "R$ 0,00",
          "R$ 1,15",
          "R$ 0,78",
          "R$ 13,00",
          "R$ 0,64",
          "R$ 1,52",
          "R$ 0,62",
          "R$ 0,08",
          "R$ 0,10",
          "R$ 0,75",
          "R$ 1,24",
          "R$ 1,10",
          "R$ 14,74",
          "R$ 0,95",
          "R$ 0,00",
          "R$ 0,70",
          "R$ 0,79",
          "R$ 0,47",
          "R$ 1,25",
          "R$ 0,61",
          "R$ 1,00",
          "R$ 2,69",
          "R$ 0,70",
          "R$ 0,63",
          "R$ 0,47",
          "R$ 1,40",
          "R$ 1,20",
          "R$ 0,65",
          "R$ 0,85",
          "R$ 1,10",
          "R$ 1,60",
          "R$ 0,78",
          "R$ 0,00",
          "R$ 0,85",
          "R$ 0,65",
          "R$ 0,11",
          "R$ 0,42",
          "R$ 0,45",
          "R$ 6,80",
          "R$ 0,90",
          "R$ 0,90",
          "R$ 0,72",
          "R$ 0,74",
          "R$ 0,63",
          "R$ 0,63",
          "R$ 0,85",
          "R$ 8,06",
          "R$ 1,00",
          "R$ 0,30",
          "R$ 0,50",
          "R$ 0,87",
          "R$ 0,93",
          "R$ 1,02",
          "R$ 0,88",
          "R$ 0,58",
          "R$ 0,62",
          "R$ 1,13",
          "R$ 1,40",
          "R$ 0,65",
          "R$ 0,52",
          "R$ 0,93",
          "R$ 0,46",
          "R$ 0,50",
          "R$ 0,87",
          "R$ 1,45",
          "R$ 3,05",
          "R$ 0,72",
          "R$ 0,20",
          "R$ 0,08",
          "R$ 1,08",
          "R$ 1,00",
          "R$ 1,08",
          "R$ 0,91",
          "R$ 0,04",
          "R$ 0,95",
          "R$ 0,87",
          "R$ 0,91",
          "R$ 4,25",
          "R$ 1,32",
          "R$ 0,60",
          "R$ 1,48",
          "R$ 0,58",
          "R$ 0,72",
          "R$ 0,78",
          "R$ 0,60",
          "R$ 0,54",
          "R$ 0,95",
          "R$ 0,10",
          "R$ 1,40",
          "R$ 0,31",
          "R$ 1,10",
          "R$ 0,86",
          "R$ 0,54",
          "R$ 0,80",
          "R$ 1,10",
          "R$ 0,60",
          "R$ 0,12",
          "R$ 0,85",
          "R$ 1,02",
          "R$ 0,15",
          "R$ 0,11",
          "R$ 0,93",
          "R$ 0,10",
          "R$ 1,51",
          "R$ 0,08",
          "R$ 0,44",
          "R$ 0,17",
          "R$ 0,98",
          "R$ 1,38",
          "R$ 0,70",
          "R$ 1,25",
          "R$ 0,41",
          "R$ 0,95",
          "R$ 0,00",
          "R$ 0,22",
          "R$ 0,60",
          "R$ 1,10",
          "R$ 1,00",
          "R$ 0,75",
          "R$ 0,15",
          "R$ 1,05",
          "R$ 0,44",
          "R$ 17,34",
          "R$ 1,62",
          "R$ 0,61",
          "R$ 0,42",
          "R$ 0,95",
          "R$ 89,64",
          "R$ 0,00",
          "R$ 1,26",
          "R$ 0,49",
          "R$ 0,18",
          "R$ 1,05",
          "R$ 1,20",
          "R$ 0,10",
          "R$ 0,00",
          "R$ 0,88",
          "R$ 8,25",
          "R$ 0,32",
          "R$ 0,63",
          "R$ 0,58",
          "R$ 0,27",
          "R$ 0,95",
          "R$ 0,40",
          "R$ 1,20",
          "R$ 17,08",
          "R$ 0,95",
          "R$ 0,02",
          "R$ 0,74",
          "R$ 0,37",
          "R$ 0,91",
          "R$ 0,54",
          "R$ 0,70",
          "R$ 0,70",
          "R$ 0,70",
          "R$ 0,26",
          "R$ 0,33",
          "R$ 0,43",
          "R$ 1,00",
          "R$ 8,37",
          "R$ 8,37",
          "R$ 8,37",
          "R$ 8,37",
          "R$ 8,37",
          "R$ 8,37",
          "R$ 8,37",
          "R$ 8,37",
          "R$ 8,37",
          "R$ 0,11",
          "R$ 0,75",
          "R$ 0,12",
          "R$ 1,20",
          "R$ 0,85",
          "R$ 1,03",
          "R$ 0,63",
          "R$ 0,05",
          "R$ 0,83",
          "R$ 0,69",
          "R$ 3,40",
          "R$ 1,06",
          "R$ 1,00",
          "R$ 0,65",
          "R$ 0,04",
          "R$ 0,35",
          "R$ 0,42",
          "R$ 0,67",
          "R$ 0,10",
          "R$ 0,78",
          "R$ 0,50",
          "R$ 1,31",
          "R$ 0,05",
          "R$ 0,47",
          "R$ 0,85",
          "R$ 1,30",
          "R$ 0,95",
          "R$ 1,00",
          "R$ 0,11",
          "R$ 0,67",
          "R$ 0,10",
          "R$ 0,14",
          "R$ 0,87",
          "R$ 0,12",
          "R$ 0,07",
          "R$ 0,53",
          "R$ 0,31",
          "R$ 0,80",
          "R$ 0,07",
          "R$ 1,02",
          "R$ 0,61",
          "R$ 1,10",
          "R$ 0,95",
          "R$ 0,65",
          "R$ 0,06",
          "R$ 0,88",
          "R$ 0,89",
          "R$ 10,76",
          "R$ 0,45",
          "R$ 0,23",
          "R$ 0,13",
          "R$ 1,00",
          "R$ 0,12",
          "R$ 1,10",
          "R$ 0,45",
          "R$ 0,65",
          "R$ 0,74",
          "R$ 0,78",
          "R$ 0,10",
          "R$ 0,08",
          "R$ 0,00",
          "R$ 0,63",
          "R$ 1,05"
         ],
         "y0": " ",
         "yaxis": "y"
        }
       ],
       "layout": {
        "boxmode": "group",
        "legend": {
         "tracegroupgap": 0
        },
        "margin": {
         "t": 60
        },
        "template": {
         "data": {
          "bar": [
           {
            "error_x": {
             "color": "#2a3f5f"
            },
            "error_y": {
             "color": "#2a3f5f"
            },
            "marker": {
             "line": {
              "color": "#E5ECF6",
              "width": 0.5
             },
             "pattern": {
              "fillmode": "overlay",
              "size": 10,
              "solidity": 0.2
             }
            },
            "type": "bar"
           }
          ],
          "barpolar": [
           {
            "marker": {
             "line": {
              "color": "#E5ECF6",
              "width": 0.5
             },
             "pattern": {
              "fillmode": "overlay",
              "size": 10,
              "solidity": 0.2
             }
            },
            "type": "barpolar"
           }
          ],
          "carpet": [
           {
            "aaxis": {
             "endlinecolor": "#2a3f5f",
             "gridcolor": "white",
             "linecolor": "white",
             "minorgridcolor": "white",
             "startlinecolor": "#2a3f5f"
            },
            "baxis": {
             "endlinecolor": "#2a3f5f",
             "gridcolor": "white",
             "linecolor": "white",
             "minorgridcolor": "white",
             "startlinecolor": "#2a3f5f"
            },
            "type": "carpet"
           }
          ],
          "choropleth": [
           {
            "colorbar": {
             "outlinewidth": 0,
             "ticks": ""
            },
            "type": "choropleth"
           }
          ],
          "contour": [
           {
            "colorbar": {
             "outlinewidth": 0,
             "ticks": ""
            },
            "colorscale": [
             [
              0,
              "#0d0887"
             ],
             [
              0.1111111111111111,
              "#46039f"
             ],
             [
              0.2222222222222222,
              "#7201a8"
             ],
             [
              0.3333333333333333,
              "#9c179e"
             ],
             [
              0.4444444444444444,
              "#bd3786"
             ],
             [
              0.5555555555555556,
              "#d8576b"
             ],
             [
              0.6666666666666666,
              "#ed7953"
             ],
             [
              0.7777777777777778,
              "#fb9f3a"
             ],
             [
              0.8888888888888888,
              "#fdca26"
             ],
             [
              1,
              "#f0f921"
             ]
            ],
            "type": "contour"
           }
          ],
          "contourcarpet": [
           {
            "colorbar": {
             "outlinewidth": 0,
             "ticks": ""
            },
            "type": "contourcarpet"
           }
          ],
          "heatmap": [
           {
            "colorbar": {
             "outlinewidth": 0,
             "ticks": ""
            },
            "colorscale": [
             [
              0,
              "#0d0887"
             ],
             [
              0.1111111111111111,
              "#46039f"
             ],
             [
              0.2222222222222222,
              "#7201a8"
             ],
             [
              0.3333333333333333,
              "#9c179e"
             ],
             [
              0.4444444444444444,
              "#bd3786"
             ],
             [
              0.5555555555555556,
              "#d8576b"
             ],
             [
              0.6666666666666666,
              "#ed7953"
             ],
             [
              0.7777777777777778,
              "#fb9f3a"
             ],
             [
              0.8888888888888888,
              "#fdca26"
             ],
             [
              1,
              "#f0f921"
             ]
            ],
            "type": "heatmap"
           }
          ],
          "heatmapgl": [
           {
            "colorbar": {
             "outlinewidth": 0,
             "ticks": ""
            },
            "colorscale": [
             [
              0,
              "#0d0887"
             ],
             [
              0.1111111111111111,
              "#46039f"
             ],
             [
              0.2222222222222222,
              "#7201a8"
             ],
             [
              0.3333333333333333,
              "#9c179e"
             ],
             [
              0.4444444444444444,
              "#bd3786"
             ],
             [
              0.5555555555555556,
              "#d8576b"
             ],
             [
              0.6666666666666666,
              "#ed7953"
             ],
             [
              0.7777777777777778,
              "#fb9f3a"
             ],
             [
              0.8888888888888888,
              "#fdca26"
             ],
             [
              1,
              "#f0f921"
             ]
            ],
            "type": "heatmapgl"
           }
          ],
          "histogram": [
           {
            "marker": {
             "pattern": {
              "fillmode": "overlay",
              "size": 10,
              "solidity": 0.2
             }
            },
            "type": "histogram"
           }
          ],
          "histogram2d": [
           {
            "colorbar": {
             "outlinewidth": 0,
             "ticks": ""
            },
            "colorscale": [
             [
              0,
              "#0d0887"
             ],
             [
              0.1111111111111111,
              "#46039f"
             ],
             [
              0.2222222222222222,
              "#7201a8"
             ],
             [
              0.3333333333333333,
              "#9c179e"
             ],
             [
              0.4444444444444444,
              "#bd3786"
             ],
             [
              0.5555555555555556,
              "#d8576b"
             ],
             [
              0.6666666666666666,
              "#ed7953"
             ],
             [
              0.7777777777777778,
              "#fb9f3a"
             ],
             [
              0.8888888888888888,
              "#fdca26"
             ],
             [
              1,
              "#f0f921"
             ]
            ],
            "type": "histogram2d"
           }
          ],
          "histogram2dcontour": [
           {
            "colorbar": {
             "outlinewidth": 0,
             "ticks": ""
            },
            "colorscale": [
             [
              0,
              "#0d0887"
             ],
             [
              0.1111111111111111,
              "#46039f"
             ],
             [
              0.2222222222222222,
              "#7201a8"
             ],
             [
              0.3333333333333333,
              "#9c179e"
             ],
             [
              0.4444444444444444,
              "#bd3786"
             ],
             [
              0.5555555555555556,
              "#d8576b"
             ],
             [
              0.6666666666666666,
              "#ed7953"
             ],
             [
              0.7777777777777778,
              "#fb9f3a"
             ],
             [
              0.8888888888888888,
              "#fdca26"
             ],
             [
              1,
              "#f0f921"
             ]
            ],
            "type": "histogram2dcontour"
           }
          ],
          "mesh3d": [
           {
            "colorbar": {
             "outlinewidth": 0,
             "ticks": ""
            },
            "type": "mesh3d"
           }
          ],
          "parcoords": [
           {
            "line": {
             "colorbar": {
              "outlinewidth": 0,
              "ticks": ""
             }
            },
            "type": "parcoords"
           }
          ],
          "pie": [
           {
            "automargin": true,
            "type": "pie"
           }
          ],
          "scatter": [
           {
            "fillpattern": {
             "fillmode": "overlay",
             "size": 10,
             "solidity": 0.2
            },
            "type": "scatter"
           }
          ],
          "scatter3d": [
           {
            "line": {
             "colorbar": {
              "outlinewidth": 0,
              "ticks": ""
             }
            },
            "marker": {
             "colorbar": {
              "outlinewidth": 0,
              "ticks": ""
             }
            },
            "type": "scatter3d"
           }
          ],
          "scattercarpet": [
           {
            "marker": {
             "colorbar": {
              "outlinewidth": 0,
              "ticks": ""
             }
            },
            "type": "scattercarpet"
           }
          ],
          "scattergeo": [
           {
            "marker": {
             "colorbar": {
              "outlinewidth": 0,
              "ticks": ""
             }
            },
            "type": "scattergeo"
           }
          ],
          "scattergl": [
           {
            "marker": {
             "colorbar": {
              "outlinewidth": 0,
              "ticks": ""
             }
            },
            "type": "scattergl"
           }
          ],
          "scattermapbox": [
           {
            "marker": {
             "colorbar": {
              "outlinewidth": 0,
              "ticks": ""
             }
            },
            "type": "scattermapbox"
           }
          ],
          "scatterpolar": [
           {
            "marker": {
             "colorbar": {
              "outlinewidth": 0,
              "ticks": ""
             }
            },
            "type": "scatterpolar"
           }
          ],
          "scatterpolargl": [
           {
            "marker": {
             "colorbar": {
              "outlinewidth": 0,
              "ticks": ""
             }
            },
            "type": "scatterpolargl"
           }
          ],
          "scatterternary": [
           {
            "marker": {
             "colorbar": {
              "outlinewidth": 0,
              "ticks": ""
             }
            },
            "type": "scatterternary"
           }
          ],
          "surface": [
           {
            "colorbar": {
             "outlinewidth": 0,
             "ticks": ""
            },
            "colorscale": [
             [
              0,
              "#0d0887"
             ],
             [
              0.1111111111111111,
              "#46039f"
             ],
             [
              0.2222222222222222,
              "#7201a8"
             ],
             [
              0.3333333333333333,
              "#9c179e"
             ],
             [
              0.4444444444444444,
              "#bd3786"
             ],
             [
              0.5555555555555556,
              "#d8576b"
             ],
             [
              0.6666666666666666,
              "#ed7953"
             ],
             [
              0.7777777777777778,
              "#fb9f3a"
             ],
             [
              0.8888888888888888,
              "#fdca26"
             ],
             [
              1,
              "#f0f921"
             ]
            ],
            "type": "surface"
           }
          ],
          "table": [
           {
            "cells": {
             "fill": {
              "color": "#EBF0F8"
             },
             "line": {
              "color": "white"
             }
            },
            "header": {
             "fill": {
              "color": "#C8D4E3"
             },
             "line": {
              "color": "white"
             }
            },
            "type": "table"
           }
          ]
         },
         "layout": {
          "annotationdefaults": {
           "arrowcolor": "#2a3f5f",
           "arrowhead": 0,
           "arrowwidth": 1
          },
          "autotypenumbers": "strict",
          "coloraxis": {
           "colorbar": {
            "outlinewidth": 0,
            "ticks": ""
           }
          },
          "colorscale": {
           "diverging": [
            [
             0,
             "#8e0152"
            ],
            [
             0.1,
             "#c51b7d"
            ],
            [
             0.2,
             "#de77ae"
            ],
            [
             0.3,
             "#f1b6da"
            ],
            [
             0.4,
             "#fde0ef"
            ],
            [
             0.5,
             "#f7f7f7"
            ],
            [
             0.6,
             "#e6f5d0"
            ],
            [
             0.7,
             "#b8e186"
            ],
            [
             0.8,
             "#7fbc41"
            ],
            [
             0.9,
             "#4d9221"
            ],
            [
             1,
             "#276419"
            ]
           ],
           "sequential": [
            [
             0,
             "#0d0887"
            ],
            [
             0.1111111111111111,
             "#46039f"
            ],
            [
             0.2222222222222222,
             "#7201a8"
            ],
            [
             0.3333333333333333,
             "#9c179e"
            ],
            [
             0.4444444444444444,
             "#bd3786"
            ],
            [
             0.5555555555555556,
             "#d8576b"
            ],
            [
             0.6666666666666666,
             "#ed7953"
            ],
            [
             0.7777777777777778,
             "#fb9f3a"
            ],
            [
             0.8888888888888888,
             "#fdca26"
            ],
            [
             1,
             "#f0f921"
            ]
           ],
           "sequentialminus": [
            [
             0,
             "#0d0887"
            ],
            [
             0.1111111111111111,
             "#46039f"
            ],
            [
             0.2222222222222222,
             "#7201a8"
            ],
            [
             0.3333333333333333,
             "#9c179e"
            ],
            [
             0.4444444444444444,
             "#bd3786"
            ],
            [
             0.5555555555555556,
             "#d8576b"
            ],
            [
             0.6666666666666666,
             "#ed7953"
            ],
            [
             0.7777777777777778,
             "#fb9f3a"
            ],
            [
             0.8888888888888888,
             "#fdca26"
            ],
            [
             1,
             "#f0f921"
            ]
           ]
          },
          "colorway": [
           "#636efa",
           "#EF553B",
           "#00cc96",
           "#ab63fa",
           "#FFA15A",
           "#19d3f3",
           "#FF6692",
           "#B6E880",
           "#FF97FF",
           "#FECB52"
          ],
          "font": {
           "color": "#2a3f5f"
          },
          "geo": {
           "bgcolor": "white",
           "lakecolor": "white",
           "landcolor": "#E5ECF6",
           "showlakes": true,
           "showland": true,
           "subunitcolor": "white"
          },
          "hoverlabel": {
           "align": "left"
          },
          "hovermode": "closest",
          "mapbox": {
           "style": "light"
          },
          "paper_bgcolor": "white",
          "plot_bgcolor": "#E5ECF6",
          "polar": {
           "angularaxis": {
            "gridcolor": "white",
            "linecolor": "white",
            "ticks": ""
           },
           "bgcolor": "#E5ECF6",
           "radialaxis": {
            "gridcolor": "white",
            "linecolor": "white",
            "ticks": ""
           }
          },
          "scene": {
           "xaxis": {
            "backgroundcolor": "#E5ECF6",
            "gridcolor": "white",
            "gridwidth": 2,
            "linecolor": "white",
            "showbackground": true,
            "ticks": "",
            "zerolinecolor": "white"
           },
           "yaxis": {
            "backgroundcolor": "#E5ECF6",
            "gridcolor": "white",
            "gridwidth": 2,
            "linecolor": "white",
            "showbackground": true,
            "ticks": "",
            "zerolinecolor": "white"
           },
           "zaxis": {
            "backgroundcolor": "#E5ECF6",
            "gridcolor": "white",
            "gridwidth": 2,
            "linecolor": "white",
            "showbackground": true,
            "ticks": "",
            "zerolinecolor": "white"
           }
          },
          "shapedefaults": {
           "line": {
            "color": "#2a3f5f"
           }
          },
          "ternary": {
           "aaxis": {
            "gridcolor": "white",
            "linecolor": "white",
            "ticks": ""
           },
           "baxis": {
            "gridcolor": "white",
            "linecolor": "white",
            "ticks": ""
           },
           "bgcolor": "#E5ECF6",
           "caxis": {
            "gridcolor": "white",
            "linecolor": "white",
            "ticks": ""
           }
          },
          "title": {
           "x": 0.05
          },
          "xaxis": {
           "automargin": true,
           "gridcolor": "white",
           "linecolor": "white",
           "ticks": "",
           "title": {
            "standoff": 15
           },
           "zerolinecolor": "white",
           "zerolinewidth": 2
          },
          "yaxis": {
           "automargin": true,
           "gridcolor": "white",
           "linecolor": "white",
           "ticks": "",
           "title": {
            "standoff": 15
           },
           "zerolinecolor": "white",
           "zerolinewidth": 2
          }
         }
        },
        "xaxis": {
         "anchor": "y",
         "domain": [
          0,
          1
         ],
         "title": {
          "text": "variable"
         }
        },
        "yaxis": {
         "anchor": "x",
         "domain": [
          0,
          1
         ],
         "title": {
          "text": "value"
         }
        }
       }
      }
     },
     "metadata": {},
     "output_type": "display_data"
    }
   ],
   "source": [
    "px.box(dados.dividendo)"
   ]
  },
  {
   "cell_type": "code",
   "execution_count": null,
   "metadata": {},
   "outputs": [
    {
     "name": "stdout",
     "output_type": "stream",
     "text": [
      "<bound method NDFrame._add_numeric_operations.<locals>.median of 0      R$ 0,13\n",
      "1      R$ 0,50\n",
      "2      R$ 1,06\n",
      "3      R$ 0,18\n",
      "4      R$ 0,75\n",
      "        ...   \n",
      "323    R$ 0,10\n",
      "324    R$ 0,08\n",
      "325    R$ 0,00\n",
      "326    R$ 0,63\n",
      "327    R$ 1,05\n",
      "Name: dividendo, Length: 328, dtype: object>\n"
     ]
    }
   ],
   "source": [
    "print(dados['dividendo'].median)\n"
   ]
  },
  {
   "cell_type": "code",
   "execution_count": null,
   "metadata": {},
   "outputs": [
    {
     "ename": "NameError",
     "evalue": "name 'columnNumerical' is not defined",
     "output_type": "error",
     "traceback": [
      "\u001b[1;31m---------------------------------------------------------------------------\u001b[0m",
      "\u001b[1;31mNameError\u001b[0m                                 Traceback (most recent call last)",
      "Cell \u001b[1;32mIn[76], line 3\u001b[0m\n\u001b[0;32m      1\u001b[0m \u001b[39m# Calcula os Outliers Da Base de Dados, Caso Exista.\u001b[39;00m\n\u001b[1;32m----> 3\u001b[0m \u001b[39mfor\u001b[39;00m column \u001b[39min\u001b[39;00m columnNumerical:\n\u001b[0;32m      5\u001b[0m   describe \u001b[39m=\u001b[39m dados[column]\u001b[39m.\u001b[39mdescribe()\n\u001b[0;32m      7\u001b[0m   q1 \u001b[39m=\u001b[39m describe[\u001b[39m\"\u001b[39m\u001b[39m25\u001b[39m\u001b[39m%\u001b[39m\u001b[39m\"\u001b[39m]\n",
      "\u001b[1;31mNameError\u001b[0m: name 'columnNumerical' is not defined"
     ]
    }
   ],
   "source": [
    "# Calcula os Outliers Da Base de Dados, Caso Exista.\n",
    "\n",
    "for column in columnNumerical:\n",
    "\n",
    "  describe = dados[column].describe()\n",
    "\n",
    "  q1 = describe[\"25%\"]\n",
    "  q3 = describe[\"75%\"]\n",
    "  iqr = q3 - q1\n",
    "\n",
    "  inferior = q1 - 1.5 * iqr\n",
    "  upper = q3 + 1.5 * iqr\n",
    "\n",
    "  # Exibe os Limites De Outliers por Coluna.\n",
    "  \n",
    "  print(f'Limites Da Coluna {column}:')\n",
    "  print(f\"-Limite inferior: {inferior:.2f}\")\n",
    "  print(f\"-Limite superior: {upper:.2f}\")\n",
    "  print()"
   ]
  }
 ],
 "metadata": {
  "kernelspec": {
   "display_name": "Python 3",
   "language": "python",
   "name": "python3"
  },
  "language_info": {
   "codemirror_mode": {
    "name": "ipython",
    "version": 3
   },
   "file_extension": ".py",
   "mimetype": "text/x-python",
   "name": "python",
   "nbconvert_exporter": "python",
   "pygments_lexer": "ipython3",
   "version": "3.10.9"
  },
  "orig_nbformat": 4,
  "vscode": {
   "interpreter": {
    "hash": "5722daad9755055b013a651651e76bfefcd0039befef69efb03fa00fbea6a530"
   }
  }
 },
 "nbformat": 4,
 "nbformat_minor": 2
}
